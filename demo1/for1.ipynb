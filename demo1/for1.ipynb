{
 "cells": [
  {
   "cell_type": "markdown",
   "metadata": {},
   "source": [
    "# 课前准备\n",
    "\n",
    "> 本节课提前需要回顾决策树算法，以及随机森林在内的机器学习集成算法。\n",
    "\n",
    "# 课堂主题\n",
    "\n",
    "> 随机森林的Python代码实践；\n",
    "> 辅以其他的集成算法（XGBoost/LightGBM）的Python代码实践。\n",
    "\n",
    "# 课堂目标\n",
    "\n",
    "> 本节课的目标是理解如何使用Python实现随机森林模型的训练与预测。\n",
    "\n",
    "1. 理解Python做随机森林的步骤\n",
    "2. 掌握使用Python做用户流失预测\n"
   ]
  },
  {
   "cell_type": "markdown",
   "metadata": {},
   "source": [
    "# 算法概述"
   ]
  },
  {
   "cell_type": "markdown",
   "metadata": {},
   "source": [
    "sklearn.ensemble.RandomForestClassifier(n_estimators=10, criterion='gini', max_depth=None, min_samples_split=2, min_samples_leaf=1,\n",
    " min_weight_fraction_leaf=0.0, max_features='auto', max_leaf_nodes=None, min_impurity_split=1e-07, bootstrap=True, oob_score=False, n_jobs=1, random_state=None, verbose=0, warm_start=False, class_weight=None)\n",
    "\n",
    "## 参数解读\n",
    "\n",
    "Bagging框架的参数和GBDT对比，GBDT的框架参数比较多，重要的有最大迭代器的个数，步长和子采样的比例等，调参过程比较费力。但是基于Bagging框架的随机森林则比较简单，这是因为Bagging的各个弱学习器之间是没有依赖关系的，降低了调参的难度。换句话说，达到同样的调参效果，随机森林调参时间要比GBDT少一些。\n",
    "\n",
    "下面我们来看看随机森林的重要参数，由于Random Forest Classifier和Random Forest Regressor参数绝大部分相同，这里会将它们一起讲，不同点会指出。\n",
    "\n",
    "  - n_estimators: 也就是弱学习器的最大迭代次数，或者说最大的决策树个数，默认是10。一般来说n_estimators太小，容易欠拟合，n_estimators太大，又容易过拟合，一般选择一个适中的数值。\n",
    "\n",
    "  - bootstrap：默认True，是否有放回的采样。\n",
    "  \n",
    "  \n",
    "  - oob_score：默认识False，即是否采用袋外样本来评估模型的好坏。有放回采样中大约会有36.8%的数据没有被采样到，我们常常称之为袋外数据(Out Of Bag, 简称OOB)，这些数据没有参与到训练集模型的拟合，因此可以用来检测模型的泛化能力。推荐设置为True，因为袋外分数反应了模型拟合后的泛化能力。对单个模型的参数训练，我们知道可以用cross validation（cv）来进行，但是比较消耗时间，而且对于随机森林这种情况没有太大的必要，所以就用袋外数据对决策树模型进行验证，类似一个简单的交叉验证，性能消耗小，但是效果不错。\n",
    "  \n",
    "  \n",
    "  - criterion：\n",
    " 即CART树做划分时对特征的评价标准，分类模型和回归模型的损失函数是不一样的。\n",
    " \n",
    "  （1）分类RF对应的CART分类树默认是基尼系数gini,另一个可选择的标准是信息增益entropy，是用来选择节点的最优特征和切分点的两个准则。\n",
    "\n",
    "  （2）回归RF对应的CART回归树默认是均方差MSE，另一个可选择的标准是绝对值误差MAE。一般来说选择默认的标准就已经很好的。\n",
    "  \n",
    "\n",
    "  - max_features: 随机森林划分时考虑的最大特征数。可以使用很多种类型的值，默认是\"None\",意味着划分时考虑所有的特征数；如果是\"log2\"意味着划分时最多考虑log2N个特征；如果是\"sqrt\"或者\"auto\"意味着划分时最多考虑N−−√N个特征。如果是整数，代表考虑的特征绝对数。如果是浮点数，代表考虑特征百分比，即考虑（百分比xN）取整后的特征数，其中N为样本总特征数。一般来说，如果样本特征数不多，比如小于50，我们用默认的\"None\"就可以了，如果特征数非常多，我们可以灵活使用刚才描述的其他取值来控制划分时考虑的最大特征数，以控制决策树的生成时间。\n",
    "  \n",
    "  \n",
    "  - max_depth:\n",
    "决策树最大深度。默认为\"None\"，即不限制子树的深度。这样建树时，会使每一个叶节点只有一个类别，或是达到min_samples_split。一般来说，数据少或者特征少的时候可以不管这个值。如果模型样本量多，特征也多的情况下，推荐限制这个最大深度，具体的取值取决于数据的分布。常用的可以取值10-100之间。\n",
    "\n",
    "\n",
    "  - min_samples_split:\n",
    "内部节点再划分所需的最小样本数，默认2。这个值限制了子树继续划分的条件，如果某节点的样本数小于min_samples_split，则不会继续划分。如果样本量不大，可以不设置这个值；如果样本量数量级非常大，则推荐增大这个值。\n",
    "\n",
    "\n",
    "  - min_samples_leaf: 叶子节点最少样本数。\n",
    "这个值限制了叶子节点的最小样本数，如果某个叶子节点的样本数小于min_samples_leaf，则会和兄弟节点一起被剪枝。默认是1，可以输入最少的样本数的整数，或者最少样本数占样本总数的百分比。如果样本量不大，不需要管这个值。如果样本量数量级非常大，则推荐增大这个值。\n",
    "\n",
    "\n",
    "  - min_weight_fraction_leaf: 叶子节点最小的样本权重和。这个值限制了叶子节点所有样本权重和的最小值，如果小于这个值，则会和兄弟节点一起被剪枝。\n",
    "默认是0，就是不考虑权重问题。一般来说，如果我们有较多样本有缺失值，或者分类树样本的分布类别偏差很大，就会引入样本权重，这时我们就要注意这个值了。\n",
    "\n",
    "\n",
    "  - max_leaf_nodes: \n",
    "最大叶子节点数。通过限制最大叶子节点数，可以防止过拟合。默认是\"None”，即不限制最大的叶子节点数。如果加了限制，算法会建立在最大叶子节点数内最优的决策树。如果特征不多，可以不考虑这个值，但是如果特征分成多的话，可以加以限制，具体的值可以通过交叉验证得到。\n",
    "\n",
    "\n",
    "  - min_impurity_split: \n",
    "节点划分最小不纯度。这个值限制了决策树的增长，如果某节点的不纯度(基于基尼系数，均方差)小于这个阈值，则该节点不再生成子节点，即为叶子节点。一般不推荐改动默认值1e-7。\n",
    "\n",
    "\n",
    "  - splitter: \n",
    "随机选择属性\"random\"还是选择不纯度最大\"best\"的属性，建议用默认best。\n",
    "\n",
    "\n",
    "  - presort: 是否对数据进行预分类，以加快拟合中最佳分裂点的发现。默认False，适用于大数据集。小数据集使用True,可以加快训练。是否预排序,预排序可以加速查找最佳分裂点，对于稀疏数据不管用，Bool，auto：非稀疏数据则预排序，若稀疏数据则不预排序。\n",
    "\n",
    "## 常用方法\n",
    "- predict_proba(x)：给出带有概率值的结果。每个点在所有label（类别）的概率和为1。\n",
    "- predict(x)：直接给出预测结果。内部还是调用的predict_proba()，根据概率的结果看哪个类型的预测值最高就是哪个类型。 \n",
    "- predict_log_proba(x)：和predict_proba基本上一样，只是把结果给做了log()处理。"
   ]
  },
  {
   "cell_type": "markdown",
   "metadata": {},
   "source": [
    "## 代码实践"
   ]
  },
  {
   "cell_type": "code",
   "execution_count": 1,
   "metadata": {},
   "outputs": [],
   "source": [
    "import numpy as np\n",
    "import scipy\n",
    "import pandas as pd\n",
    "from sklearn.ensemble import RandomForestClassifier\n",
    "from sklearn.tree import DecisionTreeClassifier\n",
    "\n",
    "from sklearn.model_selection import train_test_split, cross_val_score, GridSearchCV\n",
    "from sklearn.metrics import roc_curve, auc, roc_auc_score\n",
    "\n",
    "import matplotlib.pyplot as plt"
   ]
  },
  {
   "cell_type": "code",
   "execution_count": 2,
   "metadata": {},
   "outputs": [],
   "source": [
    "df=pd.read_csv('/Users/cairo/flink/random-forest/demo1/case-random-forest.csv', encoding='gbk')"
   ]
  },
  {
   "cell_type": "code",
   "execution_count": 3,
   "metadata": {},
   "outputs": [
    {
     "data": {
      "text/html": [
       "<div>\n",
       "<style scoped>\n",
       "    .dataframe tbody tr th:only-of-type {\n",
       "        vertical-align: middle;\n",
       "    }\n",
       "\n",
       "    .dataframe tbody tr th {\n",
       "        vertical-align: top;\n",
       "    }\n",
       "\n",
       "    .dataframe thead th {\n",
       "        text-align: right;\n",
       "    }\n",
       "</style>\n",
       "<table border=\"1\" class=\"dataframe\">\n",
       "  <thead>\n",
       "    <tr style=\"text-align: right;\">\n",
       "      <th></th>\n",
       "      <th>业务1使用次数</th>\n",
       "      <th>渠道1时长</th>\n",
       "      <th>渠道1访问次数</th>\n",
       "      <th>渠道1消费</th>\n",
       "      <th>渠道2时长</th>\n",
       "      <th>渠道2访问次数</th>\n",
       "      <th>渠道2消费</th>\n",
       "      <th>渠道3时长</th>\n",
       "      <th>渠道3访问次数</th>\n",
       "      <th>渠道3消费</th>\n",
       "      <th>渠道4时长</th>\n",
       "      <th>渠道4访问次数</th>\n",
       "      <th>渠道4消费</th>\n",
       "      <th>与客服沟通次数</th>\n",
       "      <th>isrun</th>\n",
       "    </tr>\n",
       "  </thead>\n",
       "  <tbody>\n",
       "    <tr>\n",
       "      <th>0</th>\n",
       "      <td>25</td>\n",
       "      <td>265.1</td>\n",
       "      <td>110</td>\n",
       "      <td>45.07</td>\n",
       "      <td>197.4</td>\n",
       "      <td>99</td>\n",
       "      <td>16.78</td>\n",
       "      <td>244.7</td>\n",
       "      <td>91</td>\n",
       "      <td>11.01</td>\n",
       "      <td>10.0</td>\n",
       "      <td>3</td>\n",
       "      <td>2.70</td>\n",
       "      <td>1</td>\n",
       "      <td>False.</td>\n",
       "    </tr>\n",
       "    <tr>\n",
       "      <th>1</th>\n",
       "      <td>26</td>\n",
       "      <td>161.6</td>\n",
       "      <td>123</td>\n",
       "      <td>27.47</td>\n",
       "      <td>195.5</td>\n",
       "      <td>103</td>\n",
       "      <td>16.62</td>\n",
       "      <td>254.4</td>\n",
       "      <td>103</td>\n",
       "      <td>11.45</td>\n",
       "      <td>13.7</td>\n",
       "      <td>3</td>\n",
       "      <td>3.70</td>\n",
       "      <td>1</td>\n",
       "      <td>False.</td>\n",
       "    </tr>\n",
       "    <tr>\n",
       "      <th>2</th>\n",
       "      <td>0</td>\n",
       "      <td>243.4</td>\n",
       "      <td>114</td>\n",
       "      <td>41.38</td>\n",
       "      <td>121.2</td>\n",
       "      <td>110</td>\n",
       "      <td>10.30</td>\n",
       "      <td>162.6</td>\n",
       "      <td>104</td>\n",
       "      <td>7.32</td>\n",
       "      <td>12.2</td>\n",
       "      <td>5</td>\n",
       "      <td>3.29</td>\n",
       "      <td>0</td>\n",
       "      <td>False.</td>\n",
       "    </tr>\n",
       "    <tr>\n",
       "      <th>3</th>\n",
       "      <td>0</td>\n",
       "      <td>299.4</td>\n",
       "      <td>71</td>\n",
       "      <td>50.90</td>\n",
       "      <td>61.9</td>\n",
       "      <td>88</td>\n",
       "      <td>5.26</td>\n",
       "      <td>196.9</td>\n",
       "      <td>89</td>\n",
       "      <td>8.86</td>\n",
       "      <td>6.6</td>\n",
       "      <td>7</td>\n",
       "      <td>1.78</td>\n",
       "      <td>2</td>\n",
       "      <td>False.</td>\n",
       "    </tr>\n",
       "    <tr>\n",
       "      <th>4</th>\n",
       "      <td>0</td>\n",
       "      <td>166.7</td>\n",
       "      <td>113</td>\n",
       "      <td>28.34</td>\n",
       "      <td>148.3</td>\n",
       "      <td>122</td>\n",
       "      <td>12.61</td>\n",
       "      <td>186.9</td>\n",
       "      <td>121</td>\n",
       "      <td>8.41</td>\n",
       "      <td>10.1</td>\n",
       "      <td>3</td>\n",
       "      <td>2.73</td>\n",
       "      <td>3</td>\n",
       "      <td>False.</td>\n",
       "    </tr>\n",
       "  </tbody>\n",
       "</table>\n",
       "</div>"
      ],
      "text/plain": [
       "   业务1使用次数  渠道1时长  渠道1访问次数  渠道1消费  渠道2时长  渠道2访问次数  渠道2消费  渠道3时长  渠道3访问次数  \\\n",
       "0       25  265.1      110  45.07  197.4       99  16.78  244.7       91   \n",
       "1       26  161.6      123  27.47  195.5      103  16.62  254.4      103   \n",
       "2        0  243.4      114  41.38  121.2      110  10.30  162.6      104   \n",
       "3        0  299.4       71  50.90   61.9       88   5.26  196.9       89   \n",
       "4        0  166.7      113  28.34  148.3      122  12.61  186.9      121   \n",
       "\n",
       "   渠道3消费  渠道4时长  渠道4访问次数  渠道4消费  与客服沟通次数   isrun  \n",
       "0  11.01   10.0        3   2.70        1  False.  \n",
       "1  11.45   13.7        3   3.70        1  False.  \n",
       "2   7.32   12.2        5   3.29        0  False.  \n",
       "3   8.86    6.6        7   1.78        2  False.  \n",
       "4   8.41   10.1        3   2.73        3  False.  "
      ]
     },
     "execution_count": 3,
     "metadata": {},
     "output_type": "execute_result"
    }
   ],
   "source": [
    "df.head()"
   ]
  },
  {
   "cell_type": "code",
   "execution_count": 4,
   "metadata": {},
   "outputs": [
    {
     "data": {
      "text/plain": [
       "2"
      ]
     },
     "execution_count": 4,
     "metadata": {},
     "output_type": "execute_result"
    }
   ],
   "source": [
    "df.isrun.nunique()"
   ]
  },
  {
   "cell_type": "code",
   "execution_count": 5,
   "metadata": {},
   "outputs": [
    {
     "data": {
      "text/plain": [
       "False.    2850\n",
       "True.      483\n",
       "Name: isrun, dtype: int64"
      ]
     },
     "execution_count": 5,
     "metadata": {},
     "output_type": "execute_result"
    }
   ],
   "source": [
    "df.isrun.value_counts()"
   ]
  },
  {
   "cell_type": "code",
   "execution_count": 6,
   "metadata": {},
   "outputs": [],
   "source": [
    "df.isrun=df.isrun.astype(str).map({'False.':0, 'True.':1})"
   ]
  },
  {
   "cell_type": "code",
   "execution_count": 7,
   "metadata": {},
   "outputs": [
    {
     "data": {
      "text/plain": [
       "0    0\n",
       "1    0\n",
       "2    0\n",
       "3    0\n",
       "4    0\n",
       "Name: isrun, dtype: int64"
      ]
     },
     "execution_count": 7,
     "metadata": {},
     "output_type": "execute_result"
    }
   ],
   "source": [
    "y=df.isrun\n",
    "y.head()"
   ]
  },
  {
   "cell_type": "code",
   "execution_count": 8,
   "metadata": {},
   "outputs": [
    {
     "data": {
      "text/html": [
       "<div>\n",
       "<style scoped>\n",
       "    .dataframe tbody tr th:only-of-type {\n",
       "        vertical-align: middle;\n",
       "    }\n",
       "\n",
       "    .dataframe tbody tr th {\n",
       "        vertical-align: top;\n",
       "    }\n",
       "\n",
       "    .dataframe thead th {\n",
       "        text-align: right;\n",
       "    }\n",
       "</style>\n",
       "<table border=\"1\" class=\"dataframe\">\n",
       "  <thead>\n",
       "    <tr style=\"text-align: right;\">\n",
       "      <th></th>\n",
       "      <th>业务1使用次数</th>\n",
       "      <th>渠道1时长</th>\n",
       "      <th>渠道1访问次数</th>\n",
       "      <th>渠道1消费</th>\n",
       "      <th>渠道2时长</th>\n",
       "      <th>渠道2访问次数</th>\n",
       "      <th>渠道2消费</th>\n",
       "      <th>渠道3时长</th>\n",
       "      <th>渠道3访问次数</th>\n",
       "      <th>渠道3消费</th>\n",
       "      <th>渠道4时长</th>\n",
       "      <th>渠道4访问次数</th>\n",
       "      <th>渠道4消费</th>\n",
       "      <th>与客服沟通次数</th>\n",
       "    </tr>\n",
       "  </thead>\n",
       "  <tbody>\n",
       "    <tr>\n",
       "      <th>0</th>\n",
       "      <td>25</td>\n",
       "      <td>265.1</td>\n",
       "      <td>110</td>\n",
       "      <td>45.07</td>\n",
       "      <td>197.4</td>\n",
       "      <td>99</td>\n",
       "      <td>16.78</td>\n",
       "      <td>244.7</td>\n",
       "      <td>91</td>\n",
       "      <td>11.01</td>\n",
       "      <td>10.0</td>\n",
       "      <td>3</td>\n",
       "      <td>2.70</td>\n",
       "      <td>1</td>\n",
       "    </tr>\n",
       "    <tr>\n",
       "      <th>1</th>\n",
       "      <td>26</td>\n",
       "      <td>161.6</td>\n",
       "      <td>123</td>\n",
       "      <td>27.47</td>\n",
       "      <td>195.5</td>\n",
       "      <td>103</td>\n",
       "      <td>16.62</td>\n",
       "      <td>254.4</td>\n",
       "      <td>103</td>\n",
       "      <td>11.45</td>\n",
       "      <td>13.7</td>\n",
       "      <td>3</td>\n",
       "      <td>3.70</td>\n",
       "      <td>1</td>\n",
       "    </tr>\n",
       "    <tr>\n",
       "      <th>2</th>\n",
       "      <td>0</td>\n",
       "      <td>243.4</td>\n",
       "      <td>114</td>\n",
       "      <td>41.38</td>\n",
       "      <td>121.2</td>\n",
       "      <td>110</td>\n",
       "      <td>10.30</td>\n",
       "      <td>162.6</td>\n",
       "      <td>104</td>\n",
       "      <td>7.32</td>\n",
       "      <td>12.2</td>\n",
       "      <td>5</td>\n",
       "      <td>3.29</td>\n",
       "      <td>0</td>\n",
       "    </tr>\n",
       "    <tr>\n",
       "      <th>3</th>\n",
       "      <td>0</td>\n",
       "      <td>299.4</td>\n",
       "      <td>71</td>\n",
       "      <td>50.90</td>\n",
       "      <td>61.9</td>\n",
       "      <td>88</td>\n",
       "      <td>5.26</td>\n",
       "      <td>196.9</td>\n",
       "      <td>89</td>\n",
       "      <td>8.86</td>\n",
       "      <td>6.6</td>\n",
       "      <td>7</td>\n",
       "      <td>1.78</td>\n",
       "      <td>2</td>\n",
       "    </tr>\n",
       "    <tr>\n",
       "      <th>4</th>\n",
       "      <td>0</td>\n",
       "      <td>166.7</td>\n",
       "      <td>113</td>\n",
       "      <td>28.34</td>\n",
       "      <td>148.3</td>\n",
       "      <td>122</td>\n",
       "      <td>12.61</td>\n",
       "      <td>186.9</td>\n",
       "      <td>121</td>\n",
       "      <td>8.41</td>\n",
       "      <td>10.1</td>\n",
       "      <td>3</td>\n",
       "      <td>2.73</td>\n",
       "      <td>3</td>\n",
       "    </tr>\n",
       "  </tbody>\n",
       "</table>\n",
       "</div>"
      ],
      "text/plain": [
       "   业务1使用次数  渠道1时长  渠道1访问次数  渠道1消费  渠道2时长  渠道2访问次数  渠道2消费  渠道3时长  渠道3访问次数  \\\n",
       "0       25  265.1      110  45.07  197.4       99  16.78  244.7       91   \n",
       "1       26  161.6      123  27.47  195.5      103  16.62  254.4      103   \n",
       "2        0  243.4      114  41.38  121.2      110  10.30  162.6      104   \n",
       "3        0  299.4       71  50.90   61.9       88   5.26  196.9       89   \n",
       "4        0  166.7      113  28.34  148.3      122  12.61  186.9      121   \n",
       "\n",
       "   渠道3消费  渠道4时长  渠道4访问次数  渠道4消费  与客服沟通次数  \n",
       "0  11.01   10.0        3   2.70        1  \n",
       "1  11.45   13.7        3   3.70        1  \n",
       "2   7.32   12.2        5   3.29        0  \n",
       "3   8.86    6.6        7   1.78        2  \n",
       "4   8.41   10.1        3   2.73        3  "
      ]
     },
     "execution_count": 8,
     "metadata": {},
     "output_type": "execute_result"
    }
   ],
   "source": [
    "x=df.drop('isrun', axis=1)   #dataframe.drop('isrun', axis=1)\n",
    "x.head()"
   ]
  },
  {
   "cell_type": "code",
   "execution_count": 9,
   "metadata": {},
   "outputs": [],
   "source": [
    "seed=5\n",
    "xtrain, xtest, ytrain, ytest = train_test_split(x, y, test_size=0.3, random_state=seed)"
   ]
  },
  {
   "cell_type": "markdown",
   "metadata": {
    "collapsed": true
   },
   "source": [
    "### 模型的训练"
   ]
  },
  {
   "cell_type": "code",
   "execution_count": 10,
   "metadata": {},
   "outputs": [
    {
     "data": {
      "text/plain": [
       "0.931"
      ]
     },
     "execution_count": 10,
     "metadata": {},
     "output_type": "execute_result"
    }
   ],
   "source": [
    "rfc = RandomForestClassifier()     #实例化 \n",
    "rfc = rfc.fit(xtrain,ytrain)       #用训练集数据训练模型 \n",
    "\n",
    "result = rfc.score(xtest,ytest)    #导入测试集，rfc的接口score计算的是模型准确率accuracy\n",
    "result"
   ]
  },
  {
   "cell_type": "code",
   "execution_count": 11,
   "metadata": {
    "scrolled": true
   },
   "outputs": [
    {
     "name": "stdout",
     "output_type": "stream",
     "text": [
      "所有的树:[DecisionTreeClassifier(max_features='auto', random_state=381498437), DecisionTreeClassifier(max_features='auto', random_state=265011406), DecisionTreeClassifier(max_features='auto', random_state=1786042385), DecisionTreeClassifier(max_features='auto', random_state=929919857), DecisionTreeClassifier(max_features='auto', random_state=1812554103), DecisionTreeClassifier(max_features='auto', random_state=1345749221), DecisionTreeClassifier(max_features='auto', random_state=1304893988), DecisionTreeClassifier(max_features='auto', random_state=1423878025), DecisionTreeClassifier(max_features='auto', random_state=846676572), DecisionTreeClassifier(max_features='auto', random_state=629217078), DecisionTreeClassifier(max_features='auto', random_state=646211747), DecisionTreeClassifier(max_features='auto', random_state=1143284680), DecisionTreeClassifier(max_features='auto', random_state=1131508692), DecisionTreeClassifier(max_features='auto', random_state=1325626258), DecisionTreeClassifier(max_features='auto', random_state=855596412), DecisionTreeClassifier(max_features='auto', random_state=1608745719), DecisionTreeClassifier(max_features='auto', random_state=70669266), DecisionTreeClassifier(max_features='auto', random_state=313665039), DecisionTreeClassifier(max_features='auto', random_state=827394133), DecisionTreeClassifier(max_features='auto', random_state=1850583580), DecisionTreeClassifier(max_features='auto', random_state=256781044), DecisionTreeClassifier(max_features='auto', random_state=99557481), DecisionTreeClassifier(max_features='auto', random_state=224763803), DecisionTreeClassifier(max_features='auto', random_state=464917917), DecisionTreeClassifier(max_features='auto', random_state=1627718085), DecisionTreeClassifier(max_features='auto', random_state=694264985), DecisionTreeClassifier(max_features='auto', random_state=49682538), DecisionTreeClassifier(max_features='auto', random_state=532309637), DecisionTreeClassifier(max_features='auto', random_state=1840566176), DecisionTreeClassifier(max_features='auto', random_state=1030516347), DecisionTreeClassifier(max_features='auto', random_state=545130050), DecisionTreeClassifier(max_features='auto', random_state=330494888), DecisionTreeClassifier(max_features='auto', random_state=62671418), DecisionTreeClassifier(max_features='auto', random_state=1265712074), DecisionTreeClassifier(max_features='auto', random_state=516106892), DecisionTreeClassifier(max_features='auto', random_state=1754180655), DecisionTreeClassifier(max_features='auto', random_state=599739641), DecisionTreeClassifier(max_features='auto', random_state=1783454720), DecisionTreeClassifier(max_features='auto', random_state=883207252), DecisionTreeClassifier(max_features='auto', random_state=1354263150), DecisionTreeClassifier(max_features='auto', random_state=1891661349), DecisionTreeClassifier(max_features='auto', random_state=2131845939), DecisionTreeClassifier(max_features='auto', random_state=1100596271), DecisionTreeClassifier(max_features='auto', random_state=1075754948), DecisionTreeClassifier(max_features='auto', random_state=1107219772), DecisionTreeClassifier(max_features='auto', random_state=301368577), DecisionTreeClassifier(max_features='auto', random_state=687560843), DecisionTreeClassifier(max_features='auto', random_state=2108414933), DecisionTreeClassifier(max_features='auto', random_state=984945601), DecisionTreeClassifier(max_features='auto', random_state=1397557671), DecisionTreeClassifier(max_features='auto', random_state=381188349), DecisionTreeClassifier(max_features='auto', random_state=1621104948), DecisionTreeClassifier(max_features='auto', random_state=1522613886), DecisionTreeClassifier(max_features='auto', random_state=1369366346), DecisionTreeClassifier(max_features='auto', random_state=1656285103), DecisionTreeClassifier(max_features='auto', random_state=171209841), DecisionTreeClassifier(max_features='auto', random_state=1490202404), DecisionTreeClassifier(max_features='auto', random_state=1713403396), DecisionTreeClassifier(max_features='auto', random_state=1324858401), DecisionTreeClassifier(max_features='auto', random_state=1028766013), DecisionTreeClassifier(max_features='auto', random_state=197519107), DecisionTreeClassifier(max_features='auto', random_state=262622510), DecisionTreeClassifier(max_features='auto', random_state=1459766808), DecisionTreeClassifier(max_features='auto', random_state=725875781), DecisionTreeClassifier(max_features='auto', random_state=482123574), DecisionTreeClassifier(max_features='auto', random_state=498605913), DecisionTreeClassifier(max_features='auto', random_state=289889115), DecisionTreeClassifier(max_features='auto', random_state=2040708508), DecisionTreeClassifier(max_features='auto', random_state=527150108), DecisionTreeClassifier(max_features='auto', random_state=1265436749), DecisionTreeClassifier(max_features='auto', random_state=505516288), DecisionTreeClassifier(max_features='auto', random_state=1426075123), DecisionTreeClassifier(max_features='auto', random_state=2014866049), DecisionTreeClassifier(max_features='auto', random_state=1313241864), DecisionTreeClassifier(max_features='auto', random_state=5188541), DecisionTreeClassifier(max_features='auto', random_state=1914730805), DecisionTreeClassifier(max_features='auto', random_state=704106838), DecisionTreeClassifier(max_features='auto', random_state=1531266098), DecisionTreeClassifier(max_features='auto', random_state=290394966), DecisionTreeClassifier(max_features='auto', random_state=1973854553), DecisionTreeClassifier(max_features='auto', random_state=2100738580), DecisionTreeClassifier(max_features='auto', random_state=1518913010), DecisionTreeClassifier(max_features='auto', random_state=1919954390), DecisionTreeClassifier(max_features='auto', random_state=100538634), DecisionTreeClassifier(max_features='auto', random_state=1525714804), DecisionTreeClassifier(max_features='auto', random_state=2066573158), DecisionTreeClassifier(max_features='auto', random_state=1495410637), DecisionTreeClassifier(max_features='auto', random_state=1626361197), DecisionTreeClassifier(max_features='auto', random_state=534488294), DecisionTreeClassifier(max_features='auto', random_state=905743589), DecisionTreeClassifier(max_features='auto', random_state=2018302624), DecisionTreeClassifier(max_features='auto', random_state=979667571), DecisionTreeClassifier(max_features='auto', random_state=800593477), DecisionTreeClassifier(max_features='auto', random_state=750200332), DecisionTreeClassifier(max_features='auto', random_state=1883874240), DecisionTreeClassifier(max_features='auto', random_state=1925767003), DecisionTreeClassifier(max_features='auto', random_state=639115184), DecisionTreeClassifier(max_features='auto', random_state=729365863), DecisionTreeClassifier(max_features='auto', random_state=1312232132), DecisionTreeClassifier(max_features='auto', random_state=1030518611)]\n"
     ]
    }
   ],
   "source": [
    "print ('所有的树:%s' % rfc.estimators_)"
   ]
  },
  {
   "cell_type": "code",
   "execution_count": 12,
   "metadata": {},
   "outputs": [
    {
     "name": "stdout",
     "output_type": "stream",
     "text": [
      "[0 1]\n",
      "2\n"
     ]
    }
   ],
   "source": [
    "print (rfc.classes_)\n",
    "print (rfc.n_classes_)"
   ]
  },
  {
   "cell_type": "markdown",
   "metadata": {},
   "source": [
    "### 预测结果"
   ]
  },
  {
   "cell_type": "code",
   "execution_count": 13,
   "metadata": {
    "scrolled": true
   },
   "outputs": [
    {
     "name": "stdout",
     "output_type": "stream",
     "text": [
      "判定结果：[0 0 0 0 0 1 1 1 0 0 0 0 1 0 1 0 0 0 0 0 0 0 0 0 0 0 0 0 0 0 0 0 0 0 0 0 0\n",
      " 1 0 0 0 0 0 0 0 0 0 0 0 0 0 0 0 0 0 0 0 0 1 0 0 0 0 0 0 0 0 0 1 0 0 0 0 0\n",
      " 0 0 0 0 0 0 0 0 0 0 0 1 0 0 0 0 0 0 0 0 0 0 1 0 0 0 1 0 0 0 1 0 0 0 0 0 0\n",
      " 0 0 0 0 0 0 0 0 0 0 0 0 0 0 0 0 1 0 0 0 0 1 0 0 0 0 0 0 0 0 0 0 0 0 0 0 0\n",
      " 0 0 0 0 0 0 1 0 0 0 0 0 0 0 1 0 0 0 0 0 0 0 0 1 0 0 0 0 0 0 0 0 0 0 0 0 0\n",
      " 0 0 0 0 0 0 0 0 0 0 0 0 0 0 0 0 0 0 0 0 0 0 0 0 1 0 0 0 0 0 0 0 0 0 0 0 0\n",
      " 0 1 0 0 0 0 1 0 1 1 0 0 0 0 0 0 0 0 0 0 0 0 0 0 0 0 1 0 0 0 0 0 0 0 1 1 0\n",
      " 0 0 0 0 1 0 0 0 0 0 0 0 0 1 0 0 0 0 1 0 0 0 0 0 0 1 0 0 0 0 1 0 0 0 0 0 0\n",
      " 0 0 0 0 0 0 0 0 0 0 0 0 0 0 0 0 0 1 0 0 1 1 0 0 0 0 1 0 0 0 0 0 0 0 0 0 0\n",
      " 0 0 0 1 0 0 0 0 0 0 0 0 0 0 0 0 0 0 1 0 0 0 0 0 0 0 0 0 0 0 1 0 0 0 0 0 0\n",
      " 0 0 0 0 0 0 0 0 0 0 0 0 0 0 0 0 0 0 0 0 1 0 0 0 0 0 0 0 0 0 0 0 0 0 0 0 1\n",
      " 0 0 0 0 0 0 0 0 0 0 0 1 0 0 0 0 1 0 1 0 0 0 0 0 1 0 0 0 0 0 0 0 1 0 0 0 0\n",
      " 0 0 0 0 0 0 0 0 0 0 0 0 0 0 0 0 0 0 0 0 0 0 0 0 0 0 0 0 0 0 0 0 0 0 0 0 1\n",
      " 0 0 0 0 1 0 0 0 0 0 0 0 0 0 0 0 0 0 0 0 0 0 0 0 1 0 0 0 0 0 0 0 0 0 0 0 0\n",
      " 0 1 0 0 0 0 0 0 0 0 0 0 0 0 0 0 0 0 0 0 0 0 0 0 0 0 0 0 0 0 1 0 0 0 0 0 0\n",
      " 0 0 0 0 0 1 0 0 0 0 0 1 0 0 0 1 0 0 0 0 0 0 0 0 1 0 0 0 0 0 0 0 0 0 0 0 0\n",
      " 0 0 0 0 1 0 0 0 0 1 0 0 0 1 0 0 0 0 0 0 1 0 0 1 0 0 0 0 0 0 0 0 0 0 0 0 0\n",
      " 0 0 0 0 0 0 0 0 1 0 0 0 0 0 0 0 0 0 0 0 1 0 0 0 1 0 0 0 0 0 0 0 0 0 0 0 0\n",
      " 1 0 1 1 0 0 0 0 0 0 0 0 0 0 0 0 0 0 0 0 0 1 1 0 0 0 0 0 0 0 0 0 0 0 0 0 0\n",
      " 0 0 0 0 0 0 0 0 0 0 0 0 1 0 0 0 0 0 0 0 0 0 0 0 0 0 0 0 0 0 0 0 0 1 0 0 0\n",
      " 0 0 0 0 0 0 0 0 0 0 0 1 0 0 0 0 0 0 0 1 0 0 1 1 0 0 0 0 0 0 0 0 0 0 0 0 0\n",
      " 0 0 0 0 0 0 0 1 0 0 0 0 0 0 0 0 0 0 0 0 0 0 0 0 0 0 0 1 0 0 0 0 0 0 0 0 0\n",
      " 0 0 0 0 0 0 0 0 0 0 0 0 0 0 0 0 0 0 1 0 0 0 0 0 0 0 0 0 0 0 0 0 0 0 1 0 0\n",
      " 0 0 0 0 0 1 1 0 0 0 0 0 0 0 0 0 0 0 0 0 0 0 0 0 0 0 0 0 1 0 0 0 0 0 0 0 0\n",
      " 0 0 1 0 0 0 1 0 0 0 0 0 0 0 0 0 0 0 0 0 0 0 0 0 0 1 0 0 0 0 0 0 0 0 0 0 0\n",
      " 0 0 0 0 0 0 0 0 0 0 1 0 0 0 0 0 0 0 0 1 0 0 0 0 0 0 0 0 0 0 0 0 0 0 0 0 0\n",
      " 0 0 0 0 0 0 1 0 0 0 0 0 0 0 0 0 0 0 1 0 0 0 0 0 0 0 0 0 0 1 0 0 0 0 0 0 0\n",
      " 0]\n"
     ]
    }
   ],
   "source": [
    "print ('判定结果：%s' % rfc.predict(xtest))\n",
    "#print rfc.predict_proba(feature_test[0])"
   ]
  },
  {
   "cell_type": "code",
   "execution_count": 14,
   "metadata": {},
   "outputs": [
    {
     "name": "stdout",
     "output_type": "stream",
     "text": [
      "判定结果：[[0.99 0.01]\n",
      " [0.97 0.03]\n",
      " [0.99 0.01]\n",
      " ...\n",
      " [0.95 0.05]\n",
      " [0.82 0.18]\n",
      " [0.95 0.05]]\n"
     ]
    }
   ],
   "source": [
    "print ('判定结果：%s' % rfc.predict_proba(xtest)[:,:])   #标签是1的可能性"
   ]
  },
  {
   "cell_type": "code",
   "execution_count": 15,
   "metadata": {
    "scrolled": true
   },
   "outputs": [
    {
     "name": "stdout",
     "output_type": "stream",
     "text": [
      "判定结果：[0.01 0.03 0.01 0.05 0.11 0.82 0.88 0.68 0.17 0.22 0.08 0.08 0.86 0.08\n",
      " 0.73 0.02 0.01 0.03 0.21 0.14 0.01 0.04 0.07 0.03 0.35 0.03 0.01 0.27\n",
      " 0.08 0.11 0.06 0.13 0.01 0.14 0.   0.07 0.02 0.77 0.01 0.05 0.05 0.\n",
      " 0.07 0.04 0.2  0.18 0.07 0.12 0.07 0.07 0.49 0.21 0.04 0.38 0.11 0.08\n",
      " 0.14 0.04 0.59 0.03 0.02 0.01 0.49 0.03 0.03 0.15 0.02 0.5  0.8  0.32\n",
      " 0.03 0.13 0.46 0.04 0.16 0.25 0.13 0.03 0.02 0.15 0.03 0.   0.15 0.06\n",
      " 0.14 0.78 0.02 0.01 0.39 0.18 0.09 0.06 0.02 0.29 0.04 0.34 0.57 0.03\n",
      " 0.16 0.19 0.54 0.19 0.1  0.1  0.51 0.08 0.12 0.18 0.04 0.18 0.18 0.3\n",
      " 0.05 0.02 0.09 0.19 0.   0.03 0.35 0.03 0.06 0.1  0.04 0.06 0.02 0.28\n",
      " 0.18 0.65 0.1  0.01 0.15 0.09 0.9  0.06 0.1  0.32 0.43 0.44 0.13 0.09\n",
      " 0.08 0.15 0.07 0.04 0.43 0.16 0.31 0.01 0.21 0.03 0.46 0.19 0.07 0.09\n",
      " 0.79 0.02 0.02 0.32 0.02 0.04 0.07 0.19 0.88 0.38 0.11 0.22 0.45 0.13\n",
      " 0.06 0.14 0.   0.83 0.   0.04 0.25 0.01 0.01 0.05 0.06 0.22 0.1  0.05\n",
      " 0.06 0.18 0.   0.07 0.07 0.05 0.08 0.15 0.02 0.07 0.07 0.05 0.08 0.21\n",
      " 0.25 0.02 0.15 0.04 0.07 0.02 0.05 0.14 0.12 0.02 0.01 0.14 0.07 0.74\n",
      " 0.07 0.11 0.1  0.18 0.21 0.06 0.43 0.08 0.41 0.   0.05 0.04 0.14 0.66\n",
      " 0.13 0.02 0.02 0.26 0.67 0.07 0.56 0.7  0.01 0.19 0.18 0.   0.06 0.05\n",
      " 0.04 0.09 0.34 0.12 0.04 0.09 0.38 0.09 0.18 0.1  0.81 0.11 0.08 0.11\n",
      " 0.03 0.29 0.01 0.07 0.82 0.77 0.03 0.06 0.08 0.08 0.05 0.57 0.1  0.21\n",
      " 0.09 0.06 0.08 0.09 0.02 0.07 0.67 0.   0.12 0.08 0.   0.61 0.01 0.06\n",
      " 0.04 0.05 0.19 0.05 0.62 0.09 0.17 0.05 0.   0.72 0.01 0.03 0.19 0.36\n",
      " 0.02 0.11 0.12 0.   0.01 0.49 0.03 0.03 0.38 0.05 0.04 0.03 0.02 0.07\n",
      " 0.17 0.07 0.03 0.41 0.07 0.9  0.   0.02 0.54 0.85 0.04 0.12 0.02 0.16\n",
      " 0.89 0.39 0.04 0.14 0.32 0.13 0.48 0.13 0.46 0.01 0.02 0.18 0.09 0.08\n",
      " 0.55 0.05 0.25 0.07 0.11 0.44 0.04 0.07 0.12 0.03 0.12 0.03 0.11 0.04\n",
      " 0.02 0.93 0.12 0.   0.11 0.03 0.05 0.03 0.05 0.15 0.01 0.29 0.34 0.68\n",
      " 0.03 0.12 0.05 0.01 0.15 0.04 0.01 0.05 0.03 0.32 0.09 0.09 0.   0.12\n",
      " 0.07 0.06 0.04 0.21 0.02 0.12 0.02 0.1  0.01 0.02 0.06 0.41 0.7  0.03\n",
      " 0.28 0.04 0.13 0.16 0.04 0.05 0.21 0.08 0.   0.   0.1  0.02 0.06 0.08\n",
      " 0.55 0.05 0.09 0.02 0.03 0.03 0.04 0.27 0.1  0.27 0.17 0.48 0.86 0.17\n",
      " 0.19 0.5  0.02 0.67 0.02 0.51 0.07 0.1  0.04 0.03 0.03 0.53 0.02 0.09\n",
      " 0.02 0.15 0.16 0.05 0.05 0.85 0.18 0.18 0.06 0.01 0.04 0.02 0.03 0.07\n",
      " 0.14 0.05 0.06 0.08 0.24 0.21 0.04 0.15 0.19 0.05 0.01 0.01 0.02 0.05\n",
      " 0.03 0.12 0.03 0.06 0.14 0.06 0.   0.1  0.06 0.03 0.15 0.15 0.21 0.05\n",
      " 0.2  0.42 0.02 0.03 0.7  0.37 0.05 0.21 0.07 0.54 0.03 0.03 0.   0.06\n",
      " 0.05 0.11 0.18 0.1  0.05 0.02 0.03 0.36 0.44 0.   0.21 0.19 0.09 0.02\n",
      " 0.1  0.71 0.28 0.06 0.   0.12 0.05 0.04 0.11 0.1  0.11 0.05 0.14 0.16\n",
      " 0.31 0.64 0.01 0.18 0.25 0.13 0.06 0.05 0.03 0.08 0.04 0.03 0.   0.15\n",
      " 0.02 0.13 0.05 0.17 0.2  0.16 0.02 0.04 0.05 0.04 0.15 0.05 0.05 0.38\n",
      " 0.   0.02 0.73 0.09 0.15 0.24 0.1  0.01 0.08 0.1  0.05 0.5  0.03 0.04\n",
      " 0.87 0.46 0.15 0.09 0.04 0.4  0.79 0.39 0.15 0.24 0.68 0.03 0.07 0.2\n",
      " 0.02 0.16 0.09 0.23 0.02 0.77 0.   0.15 0.19 0.01 0.02 0.04 0.16 0.03\n",
      " 0.18 0.04 0.2  0.02 0.1  0.06 0.03 0.09 0.69 0.08 0.02 0.06 0.09 0.82\n",
      " 0.03 0.03 0.03 0.79 0.   0.07 0.03 0.2  0.03 0.01 0.75 0.02 0.03 0.57\n",
      " 0.   0.03 0.18 0.21 0.04 0.04 0.08 0.19 0.05 0.12 0.04 0.15 0.   0.02\n",
      " 0.32 0.03 0.06 0.36 0.12 0.07 0.05 0.81 0.03 0.07 0.47 0.02 0.03 0.06\n",
      " 0.08 0.11 0.   0.04 0.11 0.75 0.12 0.02 0.01 0.51 0.03 0.05 0.05 0.05\n",
      " 0.14 0.01 0.05 0.08 0.04 0.02 0.02 0.11 0.53 0.04 0.78 0.68 0.26 0.06\n",
      " 0.48 0.1  0.01 0.14 0.01 0.03 0.36 0.04 0.06 0.01 0.1  0.   0.03 0.25\n",
      " 0.03 0.78 0.52 0.02 0.16 0.07 0.05 0.19 0.01 0.17 0.1  0.05 0.18 0.05\n",
      " 0.11 0.   0.15 0.12 0.03 0.33 0.11 0.1  0.05 0.01 0.2  0.02 0.02 0.04\n",
      " 0.13 0.76 0.24 0.   0.16 0.06 0.08 0.14 0.04 0.02 0.15 0.04 0.12 0.1\n",
      " 0.23 0.11 0.1  0.07 0.18 0.13 0.   0.17 0.73 0.17 0.05 0.03 0.05 0.35\n",
      " 0.05 0.09 0.01 0.01 0.06 0.11 0.02 0.37 0.04 0.84 0.   0.3  0.08 0.07\n",
      " 0.05 0.22 0.02 0.88 0.18 0.43 0.81 0.91 0.01 0.07 0.29 0.3  0.14 0.11\n",
      " 0.01 0.05 0.07 0.06 0.4  0.19 0.04 0.13 0.04 0.19 0.22 0.14 0.03 0.46\n",
      " 0.78 0.3  0.03 0.17 0.02 0.13 0.08 0.1  0.02 0.06 0.04 0.04 0.2  0.3\n",
      " 0.06 0.03 0.06 0.03 0.2  0.23 0.78 0.09 0.09 0.14 0.11 0.02 0.04 0.19\n",
      " 0.04 0.4  0.01 0.02 0.01 0.02 0.04 0.34 0.08 0.02 0.42 0.22 0.08 0.04\n",
      " 0.03 0.05 0.14 0.04 0.05 0.04 0.84 0.06 0.17 0.11 0.11 0.06 0.16 0.03\n",
      " 0.01 0.18 0.02 0.11 0.07 0.05 0.03 0.08 0.7  0.02 0.05 0.18 0.05 0.03\n",
      " 0.04 0.09 0.9  0.65 0.13 0.14 0.42 0.09 0.36 0.18 0.42 0.37 0.12 0.04\n",
      " 0.   0.03 0.05 0.08 0.1  0.04 0.45 0.31 0.1  0.01 0.   0.9  0.38 0.05\n",
      " 0.07 0.06 0.   0.12 0.09 0.1  0.18 0.03 0.9  0.37 0.21 0.05 0.93 0.19\n",
      " 0.05 0.08 0.06 0.03 0.1  0.11 0.06 0.14 0.1  0.03 0.08 0.23 0.01 0.04\n",
      " 0.14 0.22 0.02 0.57 0.17 0.09 0.22 0.05 0.08 0.08 0.02 0.03 0.48 0.04\n",
      " 0.02 0.17 0.03 0.22 0.15 0.25 0.04 0.03 0.15 0.01 0.03 0.83 0.19 0.15\n",
      " 0.16 0.14 0.   0.12 0.04 0.01 0.62 0.06 0.09 0.06 0.03 0.11 0.08 0.07\n",
      " 0.02 0.05 0.06 0.05 0.08 0.41 0.04 0.03 0.03 0.09 0.01 0.04 0.03 0.03\n",
      " 0.   0.05 0.87 0.2  0.07 0.07 0.12 0.32 0.01 0.07 0.21 0.02 0.12 0.12\n",
      " 0.79 0.03 0.03 0.   0.04 0.17 0.08 0.   0.1  0.27 0.   0.78 0.06 0.05\n",
      " 0.03 0.04 0.06 0.05 0.18 0.05]\n"
     ]
    }
   ],
   "source": [
    "print ('判定结果：%s' % rfc.predict_proba(xtest)[:,1])   #标签是1的可能性"
   ]
  },
  {
   "cell_type": "code",
   "execution_count": 16,
   "metadata": {},
   "outputs": [
    {
     "data": {
      "text/plain": [
       "True"
      ]
     },
     "execution_count": 16,
     "metadata": {},
     "output_type": "execute_result"
    }
   ],
   "source": [
    "#对比一下，（1）使用predict_proba()接口，然后将标签值为1的概率>0.5的样本即判断其属于标签值为1的那一类；\n",
    "#（2）直接使用predict接口，判断其属于哪一类\n",
    "d1=np.array(pd.Series(rfc.predict_proba(xtest)[:,1]>0.5).map({False:0, True:1}))\n",
    "d2=rfc.predict(xtest)\n",
    "np.array_equal(d1,d2)"
   ]
  },
  {
   "cell_type": "code",
   "execution_count": 17,
   "metadata": {},
   "outputs": [
    {
     "data": {
      "text/plain": [
       "0.900182121459695"
      ]
     },
     "execution_count": 17,
     "metadata": {},
     "output_type": "execute_result"
    }
   ],
   "source": [
    "roc_auc_score(ytest, rfc.predict_proba(xtest)[:,1])"
   ]
  },
  {
   "cell_type": "markdown",
   "metadata": {},
   "source": [
    "### 特征的重要性与可视化"
   ]
  },
  {
   "cell_type": "code",
   "execution_count": 18,
   "metadata": {},
   "outputs": [
    {
     "name": "stdout",
     "output_type": "stream",
     "text": [
      "各feature的重要性：[0.04047123 0.15733846 0.04818471 0.14666629 0.0772876  0.04444811\n",
      " 0.08129944 0.0553906  0.04826523 0.05358965 0.04568936 0.03557353\n",
      " 0.0470265  0.11876928]\n"
     ]
    }
   ],
   "source": [
    "print ('各feature的重要性：%s' % rfc.feature_importances_)"
   ]
  },
  {
   "cell_type": "code",
   "execution_count": 19,
   "metadata": {},
   "outputs": [
    {
     "name": "stdout",
     "output_type": "stream",
     "text": [
      "Feature ranking:\n",
      " 1) 渠道1时长                          0.157338\n",
      " 2) 渠道1消费                          0.146666\n",
      " 3) 与客服沟通次数                        0.118769\n",
      " 4) 渠道2消费                          0.081299\n",
      " 5) 渠道2时长                          0.077288\n",
      " 6) 渠道3时长                          0.055391\n",
      " 7) 渠道3消费                          0.053590\n",
      " 8) 渠道3访问次数                        0.048265\n",
      " 9) 渠道1访问次数                        0.048185\n",
      "10) 渠道4消费                          0.047026\n",
      "11) 渠道4时长                          0.045689\n",
      "12) 渠道2访问次数                        0.044448\n",
      "13) 业务1使用次数                        0.040471\n",
      "14) 渠道4访问次数                        0.035574\n"
     ]
    },
    {
     "data": {
      "image/png": "[encoded data removed]",
      "text/plain": [
       "<Figure size 432x288 with 1 Axes>"
      ]
     },
     "metadata": {
      "needs_background": "light"
     },
     "output_type": "display_data"
    }
   ],
   "source": [
    "importances = rfc.feature_importances_\n",
    "std = np.std([tree.feature_importances_ for tree in rfc.estimators_], axis=0)\n",
    "indices = np.argsort(importances)[::-1]# Print the feature ranking\n",
    "print(\"Feature ranking:\")\n",
    "for f in range(min(20,xtrain.shape[1])):    \n",
    "    print(\"%2d) %-*s %f\" % (f + 1, 30, xtrain.columns[indices[f]], importances[indices[f]]))# Plot the feature importances of the forest\n",
    "plt.figure()\n",
    "plt.title(\"Feature importances\")\n",
    "plt.bar(range(xtrain.shape[1]), importances[indices],  color=\"r\", yerr=std[indices], align=\"center\")\n",
    "plt.xticks(range(xtrain.shape[1]), indices)\n",
    "plt.xlim([-1, xtrain.shape[1]])\n",
    "plt.show()"
   ]
  },
  {
   "cell_type": "code",
   "execution_count": 20,
   "metadata": {},
   "outputs": [
    {
     "data": {
      "text/plain": [
       "('渠道1时长',\n",
       " '渠道1消费',\n",
       " '与客服沟通次数',\n",
       " '渠道2消费',\n",
       " '渠道2时长',\n",
       " '渠道3时长',\n",
       " '渠道3消费',\n",
       " '渠道3访问次数',\n",
       " '渠道1访问次数',\n",
       " '渠道4消费',\n",
       " '渠道4时长',\n",
       " '渠道2访问次数',\n",
       " '业务1使用次数',\n",
       " '渠道4访问次数')"
      ]
     },
     "execution_count": 20,
     "metadata": {},
     "output_type": "execute_result"
    }
   ],
   "source": [
    "tuple(xtrain.columns[indices])"
   ]
  },
  {
   "cell_type": "code",
   "execution_count": 21,
   "metadata": {},
   "outputs": [
    {
     "data": {
      "image/png": "[encoded data removed]",
      "text/plain": [
       "<Figure size 504x360 with 1 Axes>"
      ]
     },
     "metadata": {
      "needs_background": "light"
     },
     "output_type": "display_data"
    }
   ],
   "source": [
    "f, ax = plt.subplots(figsize=(7, 5))\n",
    "ax.bar(range(len(rfc.feature_importances_)), rfc.feature_importances_)\n",
    "ax.set_title(\"Feature Importances\")\n",
    "plt.show()"
   ]
  },
  {
   "cell_type": "code",
   "execution_count": 22,
   "metadata": {},
   "outputs": [
    {
     "data": {
      "image/png": "[encoded data removed]",
      "text/plain": [
       "<Figure size 432x288 with 1 Axes>"
      ]
     },
     "metadata": {
      "needs_background": "light"
     },
     "output_type": "display_data"
    }
   ],
   "source": [
    "predictions_validation = rfc.predict_proba(xtest)[:,1]\n",
    "fpr, tpr, _ = roc_curve(ytest, predictions_validation)\n",
    "roc_auc = auc(fpr, tpr)\n",
    "plt.title('ROC Validation')\n",
    "plt.plot(fpr, tpr, 'b', label='AUC = %0.2f' % roc_auc)\n",
    "plt.legend(loc='lower right')\n",
    "plt.plot([0, 1], [0, 1], 'r--')\n",
    "plt.xlim([0, 1])\n",
    "plt.ylim([0, 1])\n",
    "plt.ylabel('True Positive Rate')\n",
    "plt.xlabel('False Positive Rate')\n",
    "plt.show()"
   ]
  },
  {
   "cell_type": "markdown",
   "metadata": {
    "collapsed": true
   },
   "source": [
    "### 交叉验证"
   ]
  },
  {
   "cell_type": "markdown",
   "metadata": {},
   "source": [
    "sklearn.model_selection.cross_val_score(estimator, X, y, scoring=None,\n",
    "cv=None, n_jobs=1, verbose=0, fit_params=None, pre_dispatch=‘2*n_jobs’)\n",
    "\n",
    "\n",
    "estimator:   估计方法对象(分类器)\n",
    "\n",
    "X：        数据特征(Features)\n",
    "\n",
    "y：        数据标签(Labels)\n",
    "\n",
    "soring：    调用方法(包括accuracy和mean_squared_error等等)\n",
    "\n",
    "cv：       几折交叉验证\n",
    "\n",
    "n_jobs：   同时工作的cpu个数（-1代表全部）"
   ]
  },
  {
   "cell_type": "code",
   "execution_count": 23,
   "metadata": {},
   "outputs": [
    {
     "name": "stdout",
     "output_type": "stream",
     "text": [
      "0.8585529036586375\n",
      "0.9048423413074046\n"
     ]
    }
   ],
   "source": [
    "clf = DecisionTreeClassifier(max_depth=None, min_samples_split=2,random_state=0)\n",
    "scores = cross_val_score(clf, xtrain, ytrain)\n",
    "print(scores.mean())                             \n",
    "\n",
    "clf2 = RandomForestClassifier(n_estimators=10, max_depth=None,min_samples_split=2, random_state=0)\n",
    "scores = cross_val_score(clf2, xtrain, ytrain)\n",
    "print(scores.mean())                             "
   ]
  },
  {
   "cell_type": "markdown",
   "metadata": {},
   "source": [
    "### 网格搜索选择最优超参数取值"
   ]
  },
  {
   "cell_type": "code",
   "execution_count": 24,
   "metadata": {},
   "outputs": [
    {
     "data": {
      "text/plain": [
       "<bound method BaseEstimator.get_params of RandomForestClassifier()>"
      ]
     },
     "execution_count": 24,
     "metadata": {},
     "output_type": "execute_result"
    }
   ],
   "source": [
    "rfc.get_params"
   ]
  },
  {
   "cell_type": "code",
   "execution_count": null,
   "metadata": {},
   "outputs": [],
   "source": [
    "param_test1 = {'n_estimators': range(25,500,25)}\n",
    "gsearch1 = GridSearchCV(estimator = RandomForestClassifier(min_samples_split=100, \n",
    "                                                           min_samples_leaf=20,\n",
    "                                                           max_depth=8, random_state=10), \n",
    "                        param_grid = param_test1, \n",
    "                        scoring='roc_auc', \n",
    "                        cv=5)\n",
    "gsearch1.fit(xtrain, ytrain)\n",
    "print(gsearch1.best_params_, gsearch1.best_score_)\n",
    "#gsearch1.cv_results_打印拟合结果)"
   ]
  },
  {
   "cell_type": "code",
   "execution_count": null,
   "metadata": {},
   "outputs": [],
   "source": [
    "param_test2 = {'min_samples_split':range(60, 200, 20), 'min_samples_leaf':range(10, 110, 10)}\n",
    "gsearch2 = GridSearchCV(estimator = RandomForestClassifier(n_estimators=300,\n",
    "                                                           max_depth=8, random_state=10), \n",
    "                        param_grid = param_test2, \n",
    "                        scoring='roc_auc',\n",
    "                        cv=5)\n",
    "gsearch2.fit(xtrain,ytrain)\n",
    "print(gsearch2.best_params_, gsearch2.best_score_)"
   ]
  },
  {
   "cell_type": "code",
   "execution_count": null,
   "metadata": {},
   "outputs": [],
   "source": [
    "param_test3 = {'max_depth':range(3, 30, 2)}\n",
    "gsearch3 = GridSearchCV(estimator = RandomForestClassifier(n_estimators=300,\n",
    "                                                           min_samples_split=60, \n",
    "                                                           min_samples_leaf=10,\n",
    "                                                           random_state=10), \n",
    "                        param_grid = param_test3, \n",
    "                        scoring='roc_auc',\n",
    "                        cv=5)\n",
    "gsearch3.fit(xtrain,ytrain)\n",
    "print(gsearch3.best_params_, gsearch3.best_score_)"
   ]
  },
  {
   "cell_type": "code",
   "execution_count": null,
   "metadata": {},
   "outputs": [],
   "source": [
    "roc_auc_score(ytest, gsearch3.best_estimator_.predict_proba(xtest)[:,1])"
   ]
  },
  {
   "cell_type": "code",
   "execution_count": null,
   "metadata": {},
   "outputs": [],
   "source": [
    "gsearch3.best_estimator_"
   ]
  },
  {
   "cell_type": "code",
   "execution_count": null,
   "metadata": {},
   "outputs": [],
   "source": [
    "param_test4 = {'criterion':['gini', 'entropy'], 'class_weight':[None, 'balanced']}\n",
    "gsearch4 = GridSearchCV(estimator = RandomForestClassifier(n_estimators=300,\n",
    "                                                           max_depth=7, \n",
    "                                                           min_samples_split=60, \n",
    "                                                           min_samples_leaf=10,\n",
    "                                                           random_state=10), \n",
    "                        param_grid = param_test4, \n",
    "                        scoring='roc_auc',\n",
    "                        cv=5)\n",
    "gsearch4.fit(xtrain,ytrain)\n",
    "print(gsearch4.best_params_, gsearch4.best_score_)"
   ]
  },
  {
   "cell_type": "code",
   "execution_count": null,
   "metadata": {},
   "outputs": [],
   "source": [
    "roc_auc_score(ytest, gsearch4.best_estimator_.predict_proba(xtest)[:,1])"
   ]
  },
  {
   "cell_type": "code",
   "execution_count": null,
   "metadata": {},
   "outputs": [],
   "source": []
  },
  {
   "cell_type": "code",
   "execution_count": null,
   "metadata": {},
   "outputs": [],
   "source": []
  },
  {
   "cell_type": "code",
   "execution_count": null,
   "metadata": {},
   "outputs": [],
   "source": []
  },
  {
   "cell_type": "code",
   "execution_count": null,
   "metadata": {},
   "outputs": [],
   "source": []
  }
 ],
 "metadata": {
  "kernelspec": {
   "display_name": "Python 3 (ipykernel)",
   "language": "python",
   "name": "python3"
  },
  "language_info": {
   "codemirror_mode": {
    "name": "ipython",
    "version": 3
   },
   "file_extension": ".py",
   "mimetype": "text/x-python",
   "name": "python",
   "nbconvert_exporter": "python",
   "pygments_lexer": "ipython3",
   "version": "3.8.11"
  },
  "toc": {
   "base_numbering": 1,
   "nav_menu": {},
   "number_sections": true,
   "sideBar": true,
   "skip_h1_title": false,
   "title_cell": "Table of Contents",
   "title_sidebar": "Contents",
   "toc_cell": false,
   "toc_position": {
    "height": "calc(100% - 180px)",
    "left": "10px",
    "top": "150px",
    "width": "273px"
   },
   "toc_section_display": true,
   "toc_window_display": true
  }
 },
 "nbformat": 4,
 "nbformat_minor": 2
}
